{
 "cells": [
  {
   "cell_type": "markdown",
   "metadata": {},
   "source": [
    "#### Earth Analytics Bootcamp Homework 4\n",
    "* **Author:** Mark Brown\n",
    "* **Date:** 29/12/18\n"
   ]
  },
  {
   "cell_type": "markdown",
   "metadata": {},
   "source": [
    "#### Question 1: Import Python Packages (2 pts)\n",
    "\n",
    "In the questions below, you will be working with numpy arrays.\n",
    "\n",
    "You will also be downloading files using urllib.request and accessing directories and files on your computer using os. Last, you will also be creating plots of your data.\n",
    "\n",
    "Import all of the necessary Python packages to accomplish these tasks."
   ]
  },
  {
   "cell_type": "code",
   "execution_count": 2,
   "metadata": {},
   "outputs": [
    {
     "name": "stdout",
     "output_type": "stream",
     "text": [
      "packages successfully downloaded\n"
     ]
    }
   ],
   "source": [
    "# import necessary python packages\n",
    "\n",
    "import os\n",
    "import numpy as np\n",
    "import urllib.request\n",
    "import matplotlib.pyplot as plt\n",
    "\n",
    "# print if packages are sucessfully downloaded\n",
    "print(\"packages successfully downloaded\")"
   ]
  },
  {
   "cell_type": "markdown",
   "metadata": {},
   "source": [
    "#### Question 2: Download CSV Files and Import Into Numpy Arrays (2 pts)\n",
    "\n",
    "Use .urllib.request to download the following .csv files of monthly precipitation (millimeters) and temperature (Celsius) - notice the units this time:\n",
    "\n",
    "1. monthly-precip-mm-1998-to-2017.csv from https://ndownloader.figshare.com/files/12799931\n",
    "\n",
    "2. monthly-temp-cel-1998-to-2017.csv from https://ndownloader.figshare.com/files/12799928\n",
    "\n",
    "Each dataset contains a row for each year specified in the dataset name and contains a column for each month (starting with January through December).\n",
    "\n",
    "Use the appropriate function to import the files into new numpy arrays.\n",
    "\n",
    "Print your numpy arrays using the appropriate code to suppress the scientific notation."
   ]
  },
  {
   "cell_type": "code",
   "execution_count": 3,
   "metadata": {},
   "outputs": [
    {
     "name": "stdout",
     "output_type": "stream",
     "text": [
      "datasets downloaded successfully\n"
     ]
    }
   ],
   "source": [
    "# set working directory\n",
    "\n",
    "os.chdir(\"/Users/markb/earth-analytics-bootcamp/\")\n",
    "\n",
    "# download the datasets for 'monthly-precip-mm-1998-to-2017'\n",
    "# and 'monthly-temp-cel-1998-to-2017'.\n",
    "\n",
    "# download monthly-precip-mm-1998-to-2017.csv\n",
    "urllib.request.urlretrieve(url = \"https://ndownloader.figshare.com/files/12799931\", \n",
    "                           filename = \"data/monthly-precip-mm-1998-to-2017.csv\")\n",
    "\n",
    "# download monthly-temp-cel-1998-to-2017.csv\n",
    "urllib.request.urlretrieve(url = \"https://ndownloader.figshare.com/files/12799928\", \n",
    "                           filename = \"data/monthly-temp-cel-1998-to-2017.csv\")\n",
    "\n",
    "# print message that data downloads were successful\n",
    "print(\"datasets downloaded successfully\")"
   ]
  },
  {
   "cell_type": "code",
   "execution_count": 4,
   "metadata": {},
   "outputs": [
    {
     "name": "stdout",
     "output_type": "stream",
     "text": [
      "Numpy arrays successfully created\n"
     ]
    }
   ],
   "source": [
    "# import the downloaded files into new numpy arrays\n",
    "\n",
    "precip_07_to_17 = np.loadtxt(fname = \"/Users/markb/earth-analytics-bootcamp/data/monthly-precip-mm-1998-to-2017.csv\", delimiter = \",\")\n",
    "\n",
    "temp_07_to_17 = np.loadtxt(fname = \"/Users/markb/earth-analytics-bootcamp/data/monthly-temp-cel-1998-to-2017.csv\", delimiter = \",\")\n",
    "\n",
    "# print statement to show numpy arrays successfully created\n",
    "print(\"Numpy arrays successfully created\")"
   ]
  },
  {
   "cell_type": "code",
   "execution_count": 5,
   "metadata": {},
   "outputs": [
    {
     "name": "stdout",
     "output_type": "stream",
     "text": [
      "[[ 27.178   5.842  86.614 115.824  46.228  46.99  102.108  24.638  16.764\n",
      "   28.448  38.862  26.67 ]\n",
      " [ 16.51    2.032  27.686 191.77   46.736  20.828  64.516 140.716  66.548\n",
      "   33.782  20.574  25.654]\n",
      " [  7.366  13.97   65.024  38.1    40.64   38.862  53.086  18.288  63.754\n",
      "   32.512  22.606  11.176]\n",
      " [ 18.542  21.844  51.054  76.708  91.948  27.686  44.704  41.656  44.958\n",
      "   10.16   25.908   9.144]\n",
      " [ 27.178  11.176  38.1     5.08   81.28   29.972   2.286  36.576  38.608\n",
      "   61.976  19.812   0.508]\n",
      " [  2.286  38.608 138.176  75.946  66.548  68.326  18.034  89.408   8.89\n",
      "   11.43   20.32   21.336]\n",
      " [ 20.828  33.274  27.686 143.764  32.512 100.584  87.376  73.152  52.578\n",
      "   58.928  50.546   8.89 ]\n",
      " [ 35.56    7.874  30.988  98.044  48.514  68.072  10.668  41.402  13.208\n",
      "   71.12    8.636  10.922]\n",
      " [ 11.176  17.272  52.832  26.416  28.956  33.528  66.802  31.242  31.75\n",
      "   94.234  18.796  77.47 ]\n",
      " [ 42.672  21.844  42.926  56.896  45.466   9.652  20.32   46.228  48.768\n",
      "   35.052  11.938  53.34 ]\n",
      " [ 11.684  16.002  37.338  28.702 106.934  40.132   2.286  75.438  46.736\n",
      "   29.972   3.302  33.782]\n",
      " [ 15.748   6.858  48.006 149.352  78.232  68.58   36.068   8.382  10.668\n",
      "   82.804  23.622  35.306]\n",
      " [  7.112  34.798  83.82   92.202  68.834  85.344  58.674  27.178   6.35\n",
      "   24.13   15.494  12.192]\n",
      " [ 24.384  25.908   8.382  61.214 131.064  34.29   72.898  27.432  65.024\n",
      "   41.91   24.892  48.768]\n",
      " [  9.652  49.276   0.254  33.274  45.212   9.652 126.746   9.144  57.658\n",
      "   36.576   7.112  12.954]\n",
      " [  6.858  28.702  43.688 105.156  67.564  15.494  26.162  35.56  461.264\n",
      "   56.896   7.366  12.7  ]\n",
      " [ 42.418  17.272  41.148  47.498 112.522  21.336 116.078  40.64   73.152\n",
      "   29.464  22.352  34.798]\n",
      " [  9.652  93.726   9.652 114.3   198.628  44.704  75.692   7.874   3.556\n",
      "   51.308  46.482  28.194]\n",
      " [  9.398  36.576  97.536  84.836  51.054  60.198  15.494  26.924  11.43\n",
      "    9.652  11.938  23.114]\n",
      " [ 35.814  18.542  36.83   80.01  159.766  11.43   33.02   41.148  48.768\n",
      "   61.468  14.478  17.272]]\n",
      "[[ 2.5    2.444  3.722  8.056 14.889 16.722 22.667 21.5   19.5   10.222\n",
      "   6.667  0.111]\n",
      " [ 2.444  5.611  7.778  6.944 13.111 18.222 23.056 20.722 14.722 11.056\n",
      "   8.889  2.722]\n",
      " [ 2.444  5.     6.056 10.667 16.111 19.667 23.722 22.778 17.278  9.778\n",
      "  -0.333 -0.444]\n",
      " [ 0.556  0.167  4.889 10.389 14.667 20.5   23.889 22.111 18.333 12.111\n",
      "   6.611  1.667]\n",
      " [ 0.611  2.222  3.056 11.611 13.444 21.389 24.889 21.833 17.778  7.722\n",
      "   4.611  2.556]\n",
      " [ 4.556 -0.222  6.5   10.333 14.111 17.111 24.389 22.722 15.833 14.111\n",
      "   3.889  2.444]\n",
      " [ 1.889  0.889  9.     9.556 15.5   17.056 20.667 19.111 17.167 11.056\n",
      "   4.278  2.5  ]\n",
      " [ 1.944  3.278  5.556  9.111 14.222 18.556 23.944 20.944 19.    11.444\n",
      "   7.222  0.722]\n",
      " [ 4.833  0.944  4.111 12.167 16.111 22.    23.556 22.    14.667 10.556\n",
      "   6.333  1.833]\n",
      " [-2.667  1.444  8.667  8.833 14.444 19.833 23.778 23.167 18.056 12.889\n",
      "   7.167 -1.   ]\n",
      " [-0.222  2.278  4.889  8.778 13.944 18.944 23.889 20.889 16.056  7.778\n",
      "   7.778 -0.5  ]\n",
      " [ 3.444  4.278  6.833  8.5   15.167 17.222 20.889 20.889 17.278  6.944\n",
      "   6.556 -2.944]\n",
      " [ 0.556 -1.056  5.944  9.333 12.167 19.389 22.5   22.444 19.222 12.778\n",
      "   4.333  2.889]\n",
      " [ 0.611  0.     7.333  9.389 12.056 19.778 23.056 23.944 17.444 11.611\n",
      "   5.722  0.111]\n",
      " [ 3.833  0.167 10.444 12.389 15.667 23.444 23.778 22.889 18.889 10.444\n",
      "   7.833  0.944]\n",
      " [ 0.556  0.056  4.722  6.556 14.278 21.056 22.333 22.333 18.389  8.778\n",
      "   6.222 -0.278]\n",
      " [ 1.444  0.     6.444  9.889 13.667 19.    22.333 20.667 17.667 12.944\n",
      "   3.5    1.056]\n",
      " [ 2.5    2.556  7.833 10.056 11.333 20.167 21.278 21.389 20.778 13.444\n",
      "   4.889  0.611]\n",
      " [ 1.167  4.944  6.111  9.444 12.278 21.389 23.333 21.333 18.278 14.889\n",
      "   8.611  0.   ]\n",
      " [ 0.111  5.722 10.167  9.389 13.167 20.389 23.278 20.556 17.5   10.833\n",
      "   8.611  2.444]]\n"
     ]
    }
   ],
   "source": [
    "# display values in numpy array as floats rather than scientific\n",
    "# notation\n",
    "np.set_printoptions(suppress=True)\n",
    "\n",
    "# print the newly created numpy arrays\n",
    "print(precip_07_to_17)\n",
    "print(temp_07_to_17)"
   ]
  },
  {
   "cell_type": "markdown",
   "metadata": {},
   "source": [
    "#### Question 3: Write Loop to Check Dimensions of Numpy Arrays (4 pts)\n",
    "\n",
    "Write a loop to print the following information for each numpy array from the previous question:\n",
    "\n",
    "1. number of rows and columns\n",
    "2. number of dimensions (as a single value)\n",
    "\n",
    "Hints:\n",
    "\n",
    "You have a fixed number of items that you want upon which you want iterate the same code (i.e. the two numpy arrays you previously created).\n",
    "\n",
    "There are two attributes of numpy arrays that you can use to get this information."
   ]
  },
  {
   "cell_type": "code",
   "execution_count": 6,
   "metadata": {},
   "outputs": [
    {
     "name": "stdout",
     "output_type": "stream",
     "text": [
      "Shape: (20, 12)\n",
      "Dimensions: 2\n",
      "Shape: (20, 12)\n",
      "Dimensions: 2\n"
     ]
    }
   ],
   "source": [
    "# create list of numpy arrays for iteration\n",
    "arraylist = [precip_07_to_17, temp_07_to_17]\n",
    "\n",
    "# use loop to calculate the number of rows and columns and\n",
    "# number of dimensions of the numpy arrays\n",
    "for array in arraylist:\n",
    "    \n",
    "    array_shape = np.shape(array)\n",
    "    array_dim = np.ndim(array)\n",
    "    \n",
    "    # print the calculated shape and dimension values within\n",
    "    # the loop, so you can see the results for each array\n",
    "    print(\"Shape:\", array_shape)\n",
    "    print(\"Dimensions:\", array_dim)"
   ]
  },
  {
   "cell_type": "markdown",
   "metadata": {},
   "source": [
    "#### Question 4: Write Function to Convert Units (6 pts)\n",
    "\n",
    "Imagine you work for NOAA, which you know publishes their precipitation data in inches, rather than millimeters. You have received new data in millimeters, so you need to convert these values to match your other NOAA datasets.\n",
    "\n",
    "Write a function to convert the units of a numpy array from millimeters to inches (one inch = 25.4 millimeters). (Note you will execute it in the next question.)\n",
    "\n",
    "Be sure to add documentation within your functions using Python comments to tell the user what the function is doing and and what inputs it can take."
   ]
  },
  {
   "cell_type": "code",
   "execution_count": 7,
   "metadata": {},
   "outputs": [],
   "source": [
    "# define function to convert mm to inches\n",
    "def mm_to_in(x):\n",
    "    \n",
    "    # divide an input parameter by 25.4\n",
    "    # function can take a single value, single value variable, or numpy array as input\n",
    "    # function can not take list or pandas dataframe as input\n",
    "    \n",
    "    return(x / 25.4)"
   ]
  },
  {
   "cell_type": "markdown",
   "metadata": {},
   "source": [
    "#### Question 5: Apply Function and Save Output to New Numpy Array (4 pts)\n",
    "\n",
    "Run your function on the numpy array created from monthly_precip_mm_1998-to-2017.csv to convert the units from millimeters to inches.\n",
    "\n",
    "Save the output as a new numpy array and print the numpy array."
   ]
  },
  {
   "cell_type": "code",
   "execution_count": 8,
   "metadata": {},
   "outputs": [
    {
     "data": {
      "text/plain": [
       "array([[ 1.07,  0.23,  3.41,  4.56,  1.82,  1.85,  4.02,  0.97,  0.66,\n",
       "         1.12,  1.53,  1.05],\n",
       "       [ 0.65,  0.08,  1.09,  7.55,  1.84,  0.82,  2.54,  5.54,  2.62,\n",
       "         1.33,  0.81,  1.01],\n",
       "       [ 0.29,  0.55,  2.56,  1.5 ,  1.6 ,  1.53,  2.09,  0.72,  2.51,\n",
       "         1.28,  0.89,  0.44],\n",
       "       [ 0.73,  0.86,  2.01,  3.02,  3.62,  1.09,  1.76,  1.64,  1.77,\n",
       "         0.4 ,  1.02,  0.36],\n",
       "       [ 1.07,  0.44,  1.5 ,  0.2 ,  3.2 ,  1.18,  0.09,  1.44,  1.52,\n",
       "         2.44,  0.78,  0.02],\n",
       "       [ 0.09,  1.52,  5.44,  2.99,  2.62,  2.69,  0.71,  3.52,  0.35,\n",
       "         0.45,  0.8 ,  0.84],\n",
       "       [ 0.82,  1.31,  1.09,  5.66,  1.28,  3.96,  3.44,  2.88,  2.07,\n",
       "         2.32,  1.99,  0.35],\n",
       "       [ 1.4 ,  0.31,  1.22,  3.86,  1.91,  2.68,  0.42,  1.63,  0.52,\n",
       "         2.8 ,  0.34,  0.43],\n",
       "       [ 0.44,  0.68,  2.08,  1.04,  1.14,  1.32,  2.63,  1.23,  1.25,\n",
       "         3.71,  0.74,  3.05],\n",
       "       [ 1.68,  0.86,  1.69,  2.24,  1.79,  0.38,  0.8 ,  1.82,  1.92,\n",
       "         1.38,  0.47,  2.1 ],\n",
       "       [ 0.46,  0.63,  1.47,  1.13,  4.21,  1.58,  0.09,  2.97,  1.84,\n",
       "         1.18,  0.13,  1.33],\n",
       "       [ 0.62,  0.27,  1.89,  5.88,  3.08,  2.7 ,  1.42,  0.33,  0.42,\n",
       "         3.26,  0.93,  1.39],\n",
       "       [ 0.28,  1.37,  3.3 ,  3.63,  2.71,  3.36,  2.31,  1.07,  0.25,\n",
       "         0.95,  0.61,  0.48],\n",
       "       [ 0.96,  1.02,  0.33,  2.41,  5.16,  1.35,  2.87,  1.08,  2.56,\n",
       "         1.65,  0.98,  1.92],\n",
       "       [ 0.38,  1.94,  0.01,  1.31,  1.78,  0.38,  4.99,  0.36,  2.27,\n",
       "         1.44,  0.28,  0.51],\n",
       "       [ 0.27,  1.13,  1.72,  4.14,  2.66,  0.61,  1.03,  1.4 , 18.16,\n",
       "         2.24,  0.29,  0.5 ],\n",
       "       [ 1.67,  0.68,  1.62,  1.87,  4.43,  0.84,  4.57,  1.6 ,  2.88,\n",
       "         1.16,  0.88,  1.37],\n",
       "       [ 0.38,  3.69,  0.38,  4.5 ,  7.82,  1.76,  2.98,  0.31,  0.14,\n",
       "         2.02,  1.83,  1.11],\n",
       "       [ 0.37,  1.44,  3.84,  3.34,  2.01,  2.37,  0.61,  1.06,  0.45,\n",
       "         0.38,  0.47,  0.91],\n",
       "       [ 1.41,  0.73,  1.45,  3.15,  6.29,  0.45,  1.3 ,  1.62,  1.92,\n",
       "         2.42,  0.57,  0.68]])"
      ]
     },
     "execution_count": 8,
     "metadata": {},
     "output_type": "execute_result"
    }
   ],
   "source": [
    "# call the mm_to_in function using the 'precip_07_to_17' numpy array\n",
    "# to create a nre array with units converted to inches\n",
    "precip_07_to_17_in = np.array(mm_to_in(precip_07_to_17))\n",
    "\n",
    "# print the new array with converted units\n",
    "precip_07_to_17_in"
   ]
  },
  {
   "cell_type": "code",
   "execution_count": null,
   "metadata": {},
   "outputs": [],
   "source": []
  }
 ],
 "metadata": {
  "kernelspec": {
   "display_name": "Python 3",
   "language": "python",
   "name": "python3"
  },
  "language_info": {
   "codemirror_mode": {
    "name": "ipython",
    "version": 3
   },
   "file_extension": ".py",
   "mimetype": "text/x-python",
   "name": "python",
   "nbconvert_exporter": "python",
   "pygments_lexer": "ipython3",
   "version": "3.7.0"
  }
 },
 "nbformat": 4,
 "nbformat_minor": 2
}
